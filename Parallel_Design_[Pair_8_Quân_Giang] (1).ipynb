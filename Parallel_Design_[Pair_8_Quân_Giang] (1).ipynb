{
  "cells": [
    {
      "cell_type": "markdown",
      "metadata": {
        "id": "3Y0iorchyvdS"
      },
      "source": [
        "# **Requirement: What should do?**\n",
        "\n",
        "- Based on learned knowledge to select data structure and design  algorithms for merge sort algorithms.\n",
        "- Conditions: Using parallel algorithms"
      ]
    },
    {
      "cell_type": "markdown",
      "metadata": {
        "id": "mHa9_LYC1Dba"
      },
      "source": [
        "## Roles:\n",
        "- Customer: Teacher and some students\n",
        "- Author: Pair 8:\n",
        "  - Hoàng Ngọc Quân\n",
        "  - Cẩm Giang"
      ]
    },
    {
      "cell_type": "markdown",
      "metadata": {
        "id": "Gkk_PU__1jc5"
      },
      "source": [
        "# **Work Process Model:**\n",
        "- Model Type: Waterfall (Step-driven)  \n",
        "  - Spec Summary\n",
        "  - Idea Tutorial\n",
        "  - Design algorithms\n",
        "  - Implement code\n",
        "  - Validation  \n",
        "  - Report documents"
      ]
    },
    {
      "cell_type": "markdown",
      "metadata": {
        "id": "QV80YWAZ24BW"
      },
      "source": [
        "# **Activiti (0): Spec Summary**\n",
        "- Outcome:\n",
        "  - Problem Abstraction\n",
        "  - Define Input and Output of problem\n",
        "  - Define Conditions of problem"
      ]
    },
    {
      "cell_type": "markdown",
      "metadata": {
        "id": "fX5qfUc64YTn"
      },
      "source": [
        "## Problem Abstraction\n",
        "- Problem:\n",
        "  - Give a array include ***n*** non-negative integer numbers ***a***.\n",
        "  - Requirement: design a function that help sort ***a***\n",
        "\n",
        "- Input:\n",
        "  - array ***a***, python-type: list\n",
        "- Output - Return:\n",
        "  - array ***a*** after sort, python-type: list\n",
        "\n",
        "- Conditions:\n",
        "  - 1 <= n <= 2e5\n",
        "  - using **parallel program (multiprocessor)** to optimize rate for code  \n"
      ]
    },
    {
      "cell_type": "markdown",
      "metadata": {
        "id": "b_F8i1rJ7Unx"
      },
      "source": [
        "# **Activiti (1): Idea Tutorial**\n",
        "- Outcome:\n",
        "  - some comment about problem and task"
      ]
    },
    {
      "cell_type": "markdown",
      "metadata": {
        "id": "bqxCWQo98AIL"
      },
      "source": [
        "## Tutorial\n",
        "- A computer that have many processor to implement a program\n",
        "- To implement a job, we may divide data to several independence parts\n",
        "- Implement computation on each part a parallel way and combine outcome of them\n"
      ]
    },
    {
      "cell_type": "markdown",
      "metadata": {
        "id": "zj8k1jPA9dC4"
      },
      "source": [
        "## Step to Step\n",
        "- Divide a into k lists\n",
        "- Implement merge_sort on each list\n",
        "- Then, merge k lists\n",
        "\n"
      ]
    },
    {
      "cell_type": "markdown",
      "metadata": {
        "id": "kHPxGzojar2w"
      },
      "source": [
        "# **Activiti (2): Design**\n",
        "- Outcome:\n",
        "  - Diagram"
      ]
    },
    {
      "cell_type": "markdown",
      "metadata": {
        "id": "9j52Z_DFayWk"
      },
      "source": [
        "## Diagram\n",
        "\n",
        "![Blank diagram (1).png](data:image/png;base64,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)"
      ]
    },
    {
      "cell_type": "markdown",
      "metadata": {
        "id": "g9ON2GtofF5w"
      },
      "source": [
        "# **Activiti (3): Implement**"
      ]
    },
    {
      "cell_type": "markdown",
      "metadata": {
        "id": "f3TgqqBci67Y"
      },
      "source": [
        "## Import Libraries"
      ]
    },
    {
      "cell_type": "code",
      "execution_count": null,
      "metadata": {
        "id": "vHjov7V_jBB4"
      },
      "outputs": [],
      "source": [
        "import os\n",
        "import numpy as np\n",
        "import pandas as pd\n",
        "import matplotlib.pyplot as plt\n",
        "import seaborn as sns\n",
        "from multiprocessing import Pool"
      ]
    },
    {
      "cell_type": "markdown",
      "metadata": {
        "id": "WAXgNl4pqgZX"
      },
      "source": [
        "## Constant"
      ]
    },
    {
      "cell_type": "code",
      "execution_count": null,
      "metadata": {
        "colab": {
          "base_uri": "https://localhost:8080/"
        },
        "id": "Bs4oEEzdo4Jb",
        "outputId": "06a67275-f4ae-44f7-86b5-318b6ce77349"
      },
      "outputs": [
        {
          "output_type": "execute_result",
          "data": {
            "text/plain": [
              "2"
            ]
          },
          "metadata": {},
          "execution_count": 46
        }
      ],
      "source": [
        "NUMBER_PROCESSOR = os.cpu_count()\n",
        "NUMBER_PROCESSOR"
      ]
    },
    {
      "cell_type": "markdown",
      "metadata": {
        "id": "HFxYlBEqrPoa"
      },
      "source": [
        "## Utils"
      ]
    },
    {
      "cell_type": "code",
      "execution_count": null,
      "metadata": {
        "id": "4pxiuhYLrRtd"
      },
      "outputs": [],
      "source": [
        "# api merge\n",
        "def __init__():\n",
        "  pass\n",
        "\n",
        "def merge(listoflist: list) -> list:\n",
        "  '''\n",
        "  - This is a function that will merge k lists\n",
        "  - inputs:\n",
        "    - listoflist: list of k lists, type: list, shape: (k, +)\n",
        "  - return:\n",
        "    - a list of k lists after merge, type: list, shape (+)\n",
        "  '''\n",
        "  cursors = [[i, 0] for i in range(len(listoflist))]\n",
        "  tmpData = []\n",
        "\n",
        "  while len(cursors) > 0:\n",
        "    valueMin = listoflist[cursors[0][ 0]][ cursors[0][ 1]]\n",
        "    curHome = 0\n",
        "    for i in range(len(cursors)):\n",
        "      cur = cursors[i]\n",
        "      if listoflist[cur[0]][ cur[1]] < valueMin:\n",
        "        valueMin = listoflist[cur[0]][ cur[1]]\n",
        "        curHome = i\n",
        "\n",
        "    tmpData += [listoflist[cursors[curHome][ 0]][ cursors[curHome][ 1]]]\n",
        "    cursors[curHome][ 1] += 1\n",
        "    if cursors[curHome][ 1] >= len(listoflist[cursors[curHome][ 0]]):\n",
        "      cursors.pop(curHome)\n",
        "\n",
        "  return tmpData\n",
        "\n",
        "def mergeSort(a: list) -> list:\n",
        "  '''\n",
        "  - This is a function that implement merge sort algorithms\n",
        "  - inputs:\n",
        "    - a: list that need sort, type: list, shape: (+)\n",
        "  - return:\n",
        "    - list after sort, type: list, shape: (+)\n",
        "  '''\n",
        "  if len(a) < 2:\n",
        "    return a\n",
        "  mid = len(a) // 2\n",
        "  x = mergeSort(a[:mid])\n",
        "  y = mergeSort(a[mid:])\n",
        "  return merge(listoflist=[x, y])"
      ]
    },
    {
      "cell_type": "code",
      "execution_count": null,
      "metadata": {
        "id": "fDmDdKus-qmw"
      },
      "outputs": [],
      "source": [
        "def generateInput(maxValue: int = 10**18, size: tuple = (2 * 10**5), draw = False) -> list:\n",
        "  \"\"\"\n",
        "  - This is a function to generate input data that is a list include 'size' integer numbers and have max value is 'maxValue'\n",
        "  - inputs:\n",
        "    - maxValue: type: int, default = 10**18\n",
        "    - size: type: tuple, default = 2 * 10**5\n",
        "  - return:\n",
        "    - a list\n",
        "  - note:\n",
        "    - draw distribution of input data\n",
        "  \"\"\"\n",
        "  input = np.random.randint(maxValue, size=size).tolist()\n",
        "  if(draw == True):\n",
        "    sns.displot(data = input)\n",
        "  return input"
      ]
    },
    {
      "cell_type": "code",
      "execution_count": null,
      "metadata": {
        "id": "oraSwWDx-mSU"
      },
      "outputs": [],
      "source": [
        "def divideInput(input: list, numberParts: int = NUMBER_PROCESSOR, isPermutation: bool = True) -> list:\n",
        "  \"\"\"\n",
        "  - This is a function to divide input into k parts\n",
        "  - inputs:\n",
        "    - input: type: list, shape: (+)\n",
        "    - numberParts: type: int, default = number of processor\n",
        "    - isPermutation: yes or no permutate input-list, default = True\n",
        "  - return:\n",
        "    - a list of k parts, type: list, shape: (k, +)\n",
        "  \"\"\"\n",
        "  tmp = np.random.permutation(input).tolist()\n",
        "  sublists = np.array_split(tmp, numberParts, axis = 0)\n",
        "  sublists = [sub.tolist() for sub in sublists]\n",
        "  return sublists"
      ]
    },
    {
      "cell_type": "code",
      "execution_count": null,
      "metadata": {
        "id": "uLXStN-fn04U"
      },
      "outputs": [],
      "source": []
    },
    {
      "cell_type": "markdown",
      "metadata": {
        "id": "qY-kU8qsAzKN"
      },
      "source": [
        "## Demo"
      ]
    },
    {
      "cell_type": "code",
      "execution_count": null,
      "metadata": {
        "colab": {
          "base_uri": "https://localhost:8080/"
        },
        "id": "g8sPWgzVCeWQ",
        "outputId": "127fdf36-bd14-416d-fbc0-fc760cd85129"
      },
      "outputs": [
        {
          "output_type": "execute_result",
          "data": {
            "text/plain": [
              "[11, 2, 13, 1, 15, 13, 11, 13, 13, 19, 19, 18, 17, 15, 18]"
            ]
          },
          "metadata": {},
          "execution_count": 50
        }
      ],
      "source": [
        "input = generateInput(20, 15)\n",
        "input"
      ]
    },
    {
      "cell_type": "code",
      "execution_count": null,
      "metadata": {
        "colab": {
          "base_uri": "https://localhost:8080/"
        },
        "id": "U9pWWGqOCi8D",
        "outputId": "6a8cf06d-fb71-4e17-de27-611b4d841b43"
      },
      "outputs": [
        {
          "output_type": "execute_result",
          "data": {
            "text/plain": [
              "[[15, 13, 18, 13, 19, 1, 13, 11], [15, 11, 17, 2, 13, 19, 18]]"
            ]
          },
          "metadata": {},
          "execution_count": 51
        }
      ],
      "source": [
        "subinputs = divideInput(input)\n",
        "subinputs"
      ]
    },
    {
      "cell_type": "code",
      "execution_count": null,
      "metadata": {
        "colab": {
          "base_uri": "https://localhost:8080/"
        },
        "id": "nMFBWYlyCsx_",
        "outputId": "9ec416ae-ec11-4f5c-c73d-ee4bdc53f743"
      },
      "outputs": [
        {
          "output_type": "execute_result",
          "data": {
            "text/plain": [
              "[[1, 11, 13, 13, 13, 15, 18, 19], [2, 11, 13, 15, 17, 18, 19]]"
            ]
          },
          "metadata": {},
          "execution_count": 52
        }
      ],
      "source": [
        "pool = Pool(NUMBER_PROCESSOR)\n",
        "suboutputs = pool.map(mergeSort, subinputs)\n",
        "suboutputs"
      ]
    },
    {
      "cell_type": "code",
      "execution_count": null,
      "metadata": {
        "id": "OwCZiVHuC_pt"
      },
      "outputs": [],
      "source": [
        "pool.close()\n",
        "pool.join()"
      ]
    },
    {
      "cell_type": "code",
      "execution_count": null,
      "metadata": {
        "colab": {
          "base_uri": "https://localhost:8080/"
        },
        "id": "89DsD-vpDNYA",
        "outputId": "91fa44b9-8a1f-4b3d-c2ab-b7431755ec29"
      },
      "outputs": [
        {
          "output_type": "execute_result",
          "data": {
            "text/plain": [
              "[1, 2, 11, 11, 13, 13, 13, 13, 15, 15, 17, 18, 18, 19, 19]"
            ]
          },
          "metadata": {},
          "execution_count": 54
        }
      ],
      "source": [
        "output = merge(suboutputs)\n",
        "output"
      ]
    },
    {
      "cell_type": "code",
      "execution_count": null,
      "metadata": {
        "colab": {
          "base_uri": "https://localhost:8080/"
        },
        "id": "wXC5NhPpEIxa",
        "outputId": "25552f61-c95a-4d3d-9733-209a1fcdb4d4"
      },
      "outputs": [
        {
          "output_type": "execute_result",
          "data": {
            "text/plain": [
              "True"
            ]
          },
          "metadata": {},
          "execution_count": 55
        }
      ],
      "source": [
        "output == sorted(input)"
      ]
    },
    {
      "cell_type": "code",
      "execution_count": null,
      "metadata": {
        "colab": {
          "base_uri": "https://localhost:8080/"
        },
        "id": "CPRXxoc2EPfC",
        "outputId": "98416836-742c-41f4-d8c8-d40507f88dcb"
      },
      "outputs": [
        {
          "output_type": "execute_result",
          "data": {
            "text/plain": [
              "True"
            ]
          },
          "metadata": {},
          "execution_count": 56
        }
      ],
      "source": [
        "output == mergeSort(input)"
      ]
    },
    {
      "cell_type": "markdown",
      "metadata": {
        "id": "OaKGNGykEa53"
      },
      "source": [
        "## **Parallel PackPage**"
      ]
    },
    {
      "cell_type": "code",
      "execution_count": null,
      "metadata": {
        "id": "-vs3hwMcElfV"
      },
      "outputs": [],
      "source": [
        "def parallelMergeSort(input: list, numberParts: int = NUMBER_PROCESSOR, isPer = False) -> list:\n",
        "  # divide input into parts\n",
        "  subinputs = divideInput(input, numberParts = numberParts, isPermutation = isPer)\n",
        "  # parallel running\n",
        "  pool = Pool() # create pool of processors\n",
        "  suboutputs = pool.map(mergeSort, subinputs)\n",
        "  # close and join pool\n",
        "  pool.close()\n",
        "  pool.join()\n",
        "  # merge\n",
        "  output = merge(suboutputs)\n",
        "  return output"
      ]
    },
    {
      "cell_type": "markdown",
      "metadata": {
        "id": "k4S48OWFFxHz"
      },
      "source": [
        "# **Activiti (4): Validation**"
      ]
    },
    {
      "cell_type": "markdown",
      "source": [
        "controler for validation"
      ],
      "metadata": {
        "id": "LkfdRovPu-3U"
      }
    },
    {
      "cell_type": "code",
      "source": [
        "from traitlets.traitlets import ForwardDeclaredInstance\n",
        "NUMBER_TESTCASE = 10\n",
        "MAX = 10**5\n",
        "SIZE = (10**5)\n",
        "\n",
        "import time\n",
        "NUMBER_FOLD = 5\n",
        "\n",
        "NUMBER_PARTS = 10\n",
        "IS_PER = False"
      ],
      "metadata": {
        "id": "6PT6BGzdsIGO"
      },
      "execution_count": null,
      "outputs": []
    },
    {
      "cell_type": "code",
      "source": [
        "# compution time for fucntion\n",
        "def computeTimeOfFunction(func, input, type, parts = NUMBER_PROCESSOR, isPer = False) -> float:\n",
        "  runTime = time.perf_counter()\n",
        "  if(type == False):\n",
        "    func(input)\n",
        "  else:\n",
        "    func(input, parts, isPer)\n",
        "  runTime = time.perf_counter() - runTime\n",
        "  return round(runTime, 3)"
      ],
      "metadata": {
        "id": "hb8Le0vPsM6d"
      },
      "execution_count": null,
      "outputs": []
    },
    {
      "cell_type": "code",
      "execution_count": null,
      "metadata": {
        "id": "6rWcIpSKF_0q"
      },
      "outputs": [],
      "source": [
        "normal, parallel = [], []\n",
        "np.random.seed(42)\n",
        "for testcase in range(NUMBER_TESTCASE):\n",
        "  # generate input data\n",
        "  inputRoot = generateInput(MAX, SIZE)\n",
        "  # inputRoot = list(range(10**5))\n",
        "\n",
        "  for fold in range(NUMBER_FOLD):\n",
        "    # normal version\n",
        "    input = inputRoot.copy()\n",
        "    runTime = time.perf_counter()\n",
        "    out1 = mergeSort(input)\n",
        "    runTime = time.perf_counter() - runTime\n",
        "    normal += [round(runTime, 3)]\n",
        "\n",
        "    # parallel version\n",
        "    input = inputRoot.copy()\n",
        "    runTime = time.perf_counter()\n",
        "    out2 = parallelMergeSort(input, NUMBER_PARTS, IS_PER)\n",
        "    runTime = time.perf_counter() - runTime\n",
        "    parallel += [round(runTime, 3)]\n",
        "\n",
        "    # check wrong\n",
        "    if(out1 != out2):\n",
        "      print(\"WRONG ANSER!!!\")"
      ]
    },
    {
      "cell_type": "code",
      "source": [
        "normal"
      ],
      "metadata": {
        "colab": {
          "base_uri": "https://localhost:8080/"
        },
        "id": "hCOTRr8fpSoA",
        "outputId": "0acb447c-26fd-4841-e974-9aeccc16808f"
      },
      "execution_count": null,
      "outputs": [
        {
          "output_type": "execute_result",
          "data": {
            "text/plain": [
              "[2.129,\n",
              " 2.038,\n",
              " 3.669,\n",
              " 1.983,\n",
              " 2.028,\n",
              " 3.538,\n",
              " 2.069,\n",
              " 2.008,\n",
              " 2.008,\n",
              " 3.129,\n",
              " 2.009,\n",
              " 1.997,\n",
              " 3.825,\n",
              " 1.977,\n",
              " 2.12,\n",
              " 3.567,\n",
              " 2.252,\n",
              " 2.007,\n",
              " 2.038,\n",
              " 3.65,\n",
              " 2.041,\n",
              " 2.034,\n",
              " 3.717,\n",
              " 2.072,\n",
              " 2.002,\n",
              " 1.985,\n",
              " 3.432,\n",
              " 2.007,\n",
              " 2.022,\n",
              " 3.901,\n",
              " 1.979,\n",
              " 1.976,\n",
              " 2.34,\n",
              " 2.972,\n",
              " 2.007,\n",
              " 1.993,\n",
              " 3.77,\n",
              " 2.015,\n",
              " 2.024,\n",
              " 2.938,\n",
              " 2.737,\n",
              " 1.983,\n",
              " 1.999,\n",
              " 3.774,\n",
              " 1.989,\n",
              " 2.006,\n",
              " 3.254,\n",
              " 2.475,\n",
              " 1.965,\n",
              " 1.998]"
            ]
          },
          "metadata": {},
          "execution_count": 61
        }
      ]
    },
    {
      "cell_type": "code",
      "source": [
        "parallel"
      ],
      "metadata": {
        "colab": {
          "base_uri": "https://localhost:8080/"
        },
        "id": "Be8TXKIfpash",
        "outputId": "1ea2aeb2-ee79-4fe7-b1a2-c33fd8537345"
      },
      "execution_count": null,
      "outputs": [
        {
          "output_type": "execute_result",
          "data": {
            "text/plain": [
              "[1.951,\n",
              " 3.077,\n",
              " 2.803,\n",
              " 1.945,\n",
              " 1.94,\n",
              " 3.359,\n",
              " 1.93,\n",
              " 1.924,\n",
              " 5.043,\n",
              " 1.983,\n",
              " 1.933,\n",
              " 2.452,\n",
              " 2.7,\n",
              " 1.94,\n",
              " 2.752,\n",
              " 3.215,\n",
              " 1.954,\n",
              " 1.945,\n",
              " 3.347,\n",
              " 2.092,\n",
              " 1.996,\n",
              " 1.983,\n",
              " 3.331,\n",
              " 1.946,\n",
              " 1.951,\n",
              " 3.651,\n",
              " 1.954,\n",
              " 1.991,\n",
              " 2.148,\n",
              " 2.916,\n",
              " 1.917,\n",
              " 1.942,\n",
              " 3.625,\n",
              " 1.952,\n",
              " 1.994,\n",
              " 2.587,\n",
              " 2.542,\n",
              " 1.935,\n",
              " 1.948,\n",
              " 3.263,\n",
              " 2.008,\n",
              " 1.987,\n",
              " 2.788,\n",
              " 2.39,\n",
              " 1.941,\n",
              " 1.958,\n",
              " 3.324,\n",
              " 1.939,\n",
              " 2.018,\n",
              " 3.215]"
            ]
          },
          "metadata": {},
          "execution_count": 62
        }
      ]
    },
    {
      "cell_type": "markdown",
      "source": [
        "# **Activiti (5): Report**"
      ],
      "metadata": {
        "id": "K9ZkeM3TxJt7"
      }
    },
    {
      "cell_type": "code",
      "source": [
        "report = pd.DataFrame({'normal': normal, 'parallel': parallel})\n",
        "report"
      ],
      "metadata": {
        "colab": {
          "base_uri": "https://localhost:8080/",
          "height": 1000
        },
        "id": "O0Q7haVVsyGD",
        "outputId": "f0040031-b60a-4346-e36a-4736b4627422"
      },
      "execution_count": null,
      "outputs": [
        {
          "output_type": "execute_result",
          "data": {
            "text/plain": [
              "    normal  parallel\n",
              "0    2.129     1.951\n",
              "1    2.038     3.077\n",
              "2    3.669     2.803\n",
              "3    1.983     1.945\n",
              "4    2.028     1.940\n",
              "5    3.538     3.359\n",
              "6    2.069     1.930\n",
              "7    2.008     1.924\n",
              "8    2.008     5.043\n",
              "9    3.129     1.983\n",
              "10   2.009     1.933\n",
              "11   1.997     2.452\n",
              "12   3.825     2.700\n",
              "13   1.977     1.940\n",
              "14   2.120     2.752\n",
              "15   3.567     3.215\n",
              "16   2.252     1.954\n",
              "17   2.007     1.945\n",
              "18   2.038     3.347\n",
              "19   3.650     2.092\n",
              "20   2.041     1.996\n",
              "21   2.034     1.983\n",
              "22   3.717     3.331\n",
              "23   2.072     1.946\n",
              "24   2.002     1.951\n",
              "25   1.985     3.651\n",
              "26   3.432     1.954\n",
              "27   2.007     1.991\n",
              "28   2.022     2.148\n",
              "29   3.901     2.916\n",
              "30   1.979     1.917\n",
              "31   1.976     1.942\n",
              "32   2.340     3.625\n",
              "33   2.972     1.952\n",
              "34   2.007     1.994\n",
              "35   1.993     2.587\n",
              "36   3.770     2.542\n",
              "37   2.015     1.935\n",
              "38   2.024     1.948\n",
              "39   2.938     3.263\n",
              "40   2.737     2.008\n",
              "41   1.983     1.987\n",
              "42   1.999     2.788\n",
              "43   3.774     2.390\n",
              "44   1.989     1.941\n",
              "45   2.006     1.958\n",
              "46   3.254     3.324\n",
              "47   2.475     1.939\n",
              "48   1.965     2.018\n",
              "49   1.998     3.215"
            ],
            "text/html": [
              "\n",
              "  <div id=\"df-949403ec-6630-4041-b417-e314d8ca8bc4\" class=\"colab-df-container\">\n",
              "    <div>\n",
              "<style scoped>\n",
              "    .dataframe tbody tr th:only-of-type {\n",
              "        vertical-align: middle;\n",
              "    }\n",
              "\n",
              "    .dataframe tbody tr th {\n",
              "        vertical-align: top;\n",
              "    }\n",
              "\n",
              "    .dataframe thead th {\n",
              "        text-align: right;\n",
              "    }\n",
              "</style>\n",
              "<table border=\"1\" class=\"dataframe\">\n",
              "  <thead>\n",
              "    <tr style=\"text-align: right;\">\n",
              "      <th></th>\n",
              "      <th>normal</th>\n",
              "      <th>parallel</th>\n",
              "    </tr>\n",
              "  </thead>\n",
              "  <tbody>\n",
              "    <tr>\n",
              "      <th>0</th>\n",
              "      <td>2.129</td>\n",
              "      <td>1.951</td>\n",
              "    </tr>\n",
              "    <tr>\n",
              "      <th>1</th>\n",
              "      <td>2.038</td>\n",
              "      <td>3.077</td>\n",
              "    </tr>\n",
              "    <tr>\n",
              "      <th>2</th>\n",
              "      <td>3.669</td>\n",
              "      <td>2.803</td>\n",
              "    </tr>\n",
              "    <tr>\n",
              "      <th>3</th>\n",
              "      <td>1.983</td>\n",
              "      <td>1.945</td>\n",
              "    </tr>\n",
              "    <tr>\n",
              "      <th>4</th>\n",
              "      <td>2.028</td>\n",
              "      <td>1.940</td>\n",
              "    </tr>\n",
              "    <tr>\n",
              "      <th>5</th>\n",
              "      <td>3.538</td>\n",
              "      <td>3.359</td>\n",
              "    </tr>\n",
              "    <tr>\n",
              "      <th>6</th>\n",
              "      <td>2.069</td>\n",
              "      <td>1.930</td>\n",
              "    </tr>\n",
              "    <tr>\n",
              "      <th>7</th>\n",
              "      <td>2.008</td>\n",
              "      <td>1.924</td>\n",
              "    </tr>\n",
              "    <tr>\n",
              "      <th>8</th>\n",
              "      <td>2.008</td>\n",
              "      <td>5.043</td>\n",
              "    </tr>\n",
              "    <tr>\n",
              "      <th>9</th>\n",
              "      <td>3.129</td>\n",
              "      <td>1.983</td>\n",
              "    </tr>\n",
              "    <tr>\n",
              "      <th>10</th>\n",
              "      <td>2.009</td>\n",
              "      <td>1.933</td>\n",
              "    </tr>\n",
              "    <tr>\n",
              "      <th>11</th>\n",
              "      <td>1.997</td>\n",
              "      <td>2.452</td>\n",
              "    </tr>\n",
              "    <tr>\n",
              "      <th>12</th>\n",
              "      <td>3.825</td>\n",
              "      <td>2.700</td>\n",
              "    </tr>\n",
              "    <tr>\n",
              "      <th>13</th>\n",
              "      <td>1.977</td>\n",
              "      <td>1.940</td>\n",
              "    </tr>\n",
              "    <tr>\n",
              "      <th>14</th>\n",
              "      <td>2.120</td>\n",
              "      <td>2.752</td>\n",
              "    </tr>\n",
              "    <tr>\n",
              "      <th>15</th>\n",
              "      <td>3.567</td>\n",
              "      <td>3.215</td>\n",
              "    </tr>\n",
              "    <tr>\n",
              "      <th>16</th>\n",
              "      <td>2.252</td>\n",
              "      <td>1.954</td>\n",
              "    </tr>\n",
              "    <tr>\n",
              "      <th>17</th>\n",
              "      <td>2.007</td>\n",
              "      <td>1.945</td>\n",
              "    </tr>\n",
              "    <tr>\n",
              "      <th>18</th>\n",
              "      <td>2.038</td>\n",
              "      <td>3.347</td>\n",
              "    </tr>\n",
              "    <tr>\n",
              "      <th>19</th>\n",
              "      <td>3.650</td>\n",
              "      <td>2.092</td>\n",
              "    </tr>\n",
              "    <tr>\n",
              "      <th>20</th>\n",
              "      <td>2.041</td>\n",
              "      <td>1.996</td>\n",
              "    </tr>\n",
              "    <tr>\n",
              "      <th>21</th>\n",
              "      <td>2.034</td>\n",
              "      <td>1.983</td>\n",
              "    </tr>\n",
              "    <tr>\n",
              "      <th>22</th>\n",
              "      <td>3.717</td>\n",
              "      <td>3.331</td>\n",
              "    </tr>\n",
              "    <tr>\n",
              "      <th>23</th>\n",
              "      <td>2.072</td>\n",
              "      <td>1.946</td>\n",
              "    </tr>\n",
              "    <tr>\n",
              "      <th>24</th>\n",
              "      <td>2.002</td>\n",
              "      <td>1.951</td>\n",
              "    </tr>\n",
              "    <tr>\n",
              "      <th>25</th>\n",
              "      <td>1.985</td>\n",
              "      <td>3.651</td>\n",
              "    </tr>\n",
              "    <tr>\n",
              "      <th>26</th>\n",
              "      <td>3.432</td>\n",
              "      <td>1.954</td>\n",
              "    </tr>\n",
              "    <tr>\n",
              "      <th>27</th>\n",
              "      <td>2.007</td>\n",
              "      <td>1.991</td>\n",
              "    </tr>\n",
              "    <tr>\n",
              "      <th>28</th>\n",
              "      <td>2.022</td>\n",
              "      <td>2.148</td>\n",
              "    </tr>\n",
              "    <tr>\n",
              "      <th>29</th>\n",
              "      <td>3.901</td>\n",
              "      <td>2.916</td>\n",
              "    </tr>\n",
              "    <tr>\n",
              "      <th>30</th>\n",
              "      <td>1.979</td>\n",
              "      <td>1.917</td>\n",
              "    </tr>\n",
              "    <tr>\n",
              "      <th>31</th>\n",
              "      <td>1.976</td>\n",
              "      <td>1.942</td>\n",
              "    </tr>\n",
              "    <tr>\n",
              "      <th>32</th>\n",
              "      <td>2.340</td>\n",
              "      <td>3.625</td>\n",
              "    </tr>\n",
              "    <tr>\n",
              "      <th>33</th>\n",
              "      <td>2.972</td>\n",
              "      <td>1.952</td>\n",
              "    </tr>\n",
              "    <tr>\n",
              "      <th>34</th>\n",
              "      <td>2.007</td>\n",
              "      <td>1.994</td>\n",
              "    </tr>\n",
              "    <tr>\n",
              "      <th>35</th>\n",
              "      <td>1.993</td>\n",
              "      <td>2.587</td>\n",
              "    </tr>\n",
              "    <tr>\n",
              "      <th>36</th>\n",
              "      <td>3.770</td>\n",
              "      <td>2.542</td>\n",
              "    </tr>\n",
              "    <tr>\n",
              "      <th>37</th>\n",
              "      <td>2.015</td>\n",
              "      <td>1.935</td>\n",
              "    </tr>\n",
              "    <tr>\n",
              "      <th>38</th>\n",
              "      <td>2.024</td>\n",
              "      <td>1.948</td>\n",
              "    </tr>\n",
              "    <tr>\n",
              "      <th>39</th>\n",
              "      <td>2.938</td>\n",
              "      <td>3.263</td>\n",
              "    </tr>\n",
              "    <tr>\n",
              "      <th>40</th>\n",
              "      <td>2.737</td>\n",
              "      <td>2.008</td>\n",
              "    </tr>\n",
              "    <tr>\n",
              "      <th>41</th>\n",
              "      <td>1.983</td>\n",
              "      <td>1.987</td>\n",
              "    </tr>\n",
              "    <tr>\n",
              "      <th>42</th>\n",
              "      <td>1.999</td>\n",
              "      <td>2.788</td>\n",
              "    </tr>\n",
              "    <tr>\n",
              "      <th>43</th>\n",
              "      <td>3.774</td>\n",
              "      <td>2.390</td>\n",
              "    </tr>\n",
              "    <tr>\n",
              "      <th>44</th>\n",
              "      <td>1.989</td>\n",
              "      <td>1.941</td>\n",
              "    </tr>\n",
              "    <tr>\n",
              "      <th>45</th>\n",
              "      <td>2.006</td>\n",
              "      <td>1.958</td>\n",
              "    </tr>\n",
              "    <tr>\n",
              "      <th>46</th>\n",
              "      <td>3.254</td>\n",
              "      <td>3.324</td>\n",
              "    </tr>\n",
              "    <tr>\n",
              "      <th>47</th>\n",
              "      <td>2.475</td>\n",
              "      <td>1.939</td>\n",
              "    </tr>\n",
              "    <tr>\n",
              "      <th>48</th>\n",
              "      <td>1.965</td>\n",
              "      <td>2.018</td>\n",
              "    </tr>\n",
              "    <tr>\n",
              "      <th>49</th>\n",
              "      <td>1.998</td>\n",
              "      <td>3.215</td>\n",
              "    </tr>\n",
              "  </tbody>\n",
              "</table>\n",
              "</div>\n",
              "    <div class=\"colab-df-buttons\">\n",
              "\n",
              "  <div class=\"colab-df-container\">\n",
              "    <button class=\"colab-df-convert\" onclick=\"convertToInteractive('df-949403ec-6630-4041-b417-e314d8ca8bc4')\"\n",
              "            title=\"Convert this dataframe to an interactive table.\"\n",
              "            style=\"display:none;\">\n",
              "\n",
              "  <svg xmlns=\"http://www.w3.org/2000/svg\" height=\"24px\" viewBox=\"0 -960 960 960\">\n",
              "    <path d=\"M120-120v-720h720v720H120Zm60-500h600v-160H180v160Zm220 220h160v-160H400v160Zm0 220h160v-160H400v160ZM180-400h160v-160H180v160Zm440 0h160v-160H620v160ZM180-180h160v-160H180v160Zm440 0h160v-160H620v160Z\"/>\n",
              "  </svg>\n",
              "    </button>\n",
              "\n",
              "  <style>\n",
              "    .colab-df-container {\n",
              "      display:flex;\n",
              "      gap: 12px;\n",
              "    }\n",
              "\n",
              "    .colab-df-convert {\n",
              "      background-color: #E8F0FE;\n",
              "      border: none;\n",
              "      border-radius: 50%;\n",
              "      cursor: pointer;\n",
              "      display: none;\n",
              "      fill: #1967D2;\n",
              "      height: 32px;\n",
              "      padding: 0 0 0 0;\n",
              "      width: 32px;\n",
              "    }\n",
              "\n",
              "    .colab-df-convert:hover {\n",
              "      background-color: #E2EBFA;\n",
              "      box-shadow: 0px 1px 2px rgba(60, 64, 67, 0.3), 0px 1px 3px 1px rgba(60, 64, 67, 0.15);\n",
              "      fill: #174EA6;\n",
              "    }\n",
              "\n",
              "    .colab-df-buttons div {\n",
              "      margin-bottom: 4px;\n",
              "    }\n",
              "\n",
              "    [theme=dark] .colab-df-convert {\n",
              "      background-color: #3B4455;\n",
              "      fill: #D2E3FC;\n",
              "    }\n",
              "\n",
              "    [theme=dark] .colab-df-convert:hover {\n",
              "      background-color: #434B5C;\n",
              "      box-shadow: 0px 1px 3px 1px rgba(0, 0, 0, 0.15);\n",
              "      filter: drop-shadow(0px 1px 2px rgba(0, 0, 0, 0.3));\n",
              "      fill: #FFFFFF;\n",
              "    }\n",
              "  </style>\n",
              "\n",
              "    <script>\n",
              "      const buttonEl =\n",
              "        document.querySelector('#df-949403ec-6630-4041-b417-e314d8ca8bc4 button.colab-df-convert');\n",
              "      buttonEl.style.display =\n",
              "        google.colab.kernel.accessAllowed ? 'block' : 'none';\n",
              "\n",
              "      async function convertToInteractive(key) {\n",
              "        const element = document.querySelector('#df-949403ec-6630-4041-b417-e314d8ca8bc4');\n",
              "        const dataTable =\n",
              "          await google.colab.kernel.invokeFunction('convertToInteractive',\n",
              "                                                    [key], {});\n",
              "        if (!dataTable) return;\n",
              "\n",
              "        const docLinkHtml = 'Like what you see? Visit the ' +\n",
              "          '<a target=\"_blank\" href=https://colab.research.google.com/notebooks/data_table.ipynb>data table notebook</a>'\n",
              "          + ' to learn more about interactive tables.';\n",
              "        element.innerHTML = '';\n",
              "        dataTable['output_type'] = 'display_data';\n",
              "        await google.colab.output.renderOutput(dataTable, element);\n",
              "        const docLink = document.createElement('div');\n",
              "        docLink.innerHTML = docLinkHtml;\n",
              "        element.appendChild(docLink);\n",
              "      }\n",
              "    </script>\n",
              "  </div>\n",
              "\n",
              "\n",
              "<div id=\"df-bd04e1f6-cf8a-432b-92b7-471a92904dd3\">\n",
              "  <button class=\"colab-df-quickchart\" onclick=\"quickchart('df-bd04e1f6-cf8a-432b-92b7-471a92904dd3')\"\n",
              "            title=\"Suggest charts.\"\n",
              "            style=\"display:none;\">\n",
              "\n",
              "<svg xmlns=\"http://www.w3.org/2000/svg\" height=\"24px\"viewBox=\"0 0 24 24\"\n",
              "     width=\"24px\">\n",
              "    <g>\n",
              "        <path d=\"M19 3H5c-1.1 0-2 .9-2 2v14c0 1.1.9 2 2 2h14c1.1 0 2-.9 2-2V5c0-1.1-.9-2-2-2zM9 17H7v-7h2v7zm4 0h-2V7h2v10zm4 0h-2v-4h2v4z\"/>\n",
              "    </g>\n",
              "</svg>\n",
              "  </button>\n",
              "\n",
              "<style>\n",
              "  .colab-df-quickchart {\n",
              "      --bg-color: #E8F0FE;\n",
              "      --fill-color: #1967D2;\n",
              "      --hover-bg-color: #E2EBFA;\n",
              "      --hover-fill-color: #174EA6;\n",
              "      --disabled-fill-color: #AAA;\n",
              "      --disabled-bg-color: #DDD;\n",
              "  }\n",
              "\n",
              "  [theme=dark] .colab-df-quickchart {\n",
              "      --bg-color: #3B4455;\n",
              "      --fill-color: #D2E3FC;\n",
              "      --hover-bg-color: #434B5C;\n",
              "      --hover-fill-color: #FFFFFF;\n",
              "      --disabled-bg-color: #3B4455;\n",
              "      --disabled-fill-color: #666;\n",
              "  }\n",
              "\n",
              "  .colab-df-quickchart {\n",
              "    background-color: var(--bg-color);\n",
              "    border: none;\n",
              "    border-radius: 50%;\n",
              "    cursor: pointer;\n",
              "    display: none;\n",
              "    fill: var(--fill-color);\n",
              "    height: 32px;\n",
              "    padding: 0;\n",
              "    width: 32px;\n",
              "  }\n",
              "\n",
              "  .colab-df-quickchart:hover {\n",
              "    background-color: var(--hover-bg-color);\n",
              "    box-shadow: 0 1px 2px rgba(60, 64, 67, 0.3), 0 1px 3px 1px rgba(60, 64, 67, 0.15);\n",
              "    fill: var(--button-hover-fill-color);\n",
              "  }\n",
              "\n",
              "  .colab-df-quickchart-complete:disabled,\n",
              "  .colab-df-quickchart-complete:disabled:hover {\n",
              "    background-color: var(--disabled-bg-color);\n",
              "    fill: var(--disabled-fill-color);\n",
              "    box-shadow: none;\n",
              "  }\n",
              "\n",
              "  .colab-df-spinner {\n",
              "    border: 2px solid var(--fill-color);\n",
              "    border-color: transparent;\n",
              "    border-bottom-color: var(--fill-color);\n",
              "    animation:\n",
              "      spin 1s steps(1) infinite;\n",
              "  }\n",
              "\n",
              "  @keyframes spin {\n",
              "    0% {\n",
              "      border-color: transparent;\n",
              "      border-bottom-color: var(--fill-color);\n",
              "      border-left-color: var(--fill-color);\n",
              "    }\n",
              "    20% {\n",
              "      border-color: transparent;\n",
              "      border-left-color: var(--fill-color);\n",
              "      border-top-color: var(--fill-color);\n",
              "    }\n",
              "    30% {\n",
              "      border-color: transparent;\n",
              "      border-left-color: var(--fill-color);\n",
              "      border-top-color: var(--fill-color);\n",
              "      border-right-color: var(--fill-color);\n",
              "    }\n",
              "    40% {\n",
              "      border-color: transparent;\n",
              "      border-right-color: var(--fill-color);\n",
              "      border-top-color: var(--fill-color);\n",
              "    }\n",
              "    60% {\n",
              "      border-color: transparent;\n",
              "      border-right-color: var(--fill-color);\n",
              "    }\n",
              "    80% {\n",
              "      border-color: transparent;\n",
              "      border-right-color: var(--fill-color);\n",
              "      border-bottom-color: var(--fill-color);\n",
              "    }\n",
              "    90% {\n",
              "      border-color: transparent;\n",
              "      border-bottom-color: var(--fill-color);\n",
              "    }\n",
              "  }\n",
              "</style>\n",
              "\n",
              "  <script>\n",
              "    async function quickchart(key) {\n",
              "      const quickchartButtonEl =\n",
              "        document.querySelector('#' + key + ' button');\n",
              "      quickchartButtonEl.disabled = true;  // To prevent multiple clicks.\n",
              "      quickchartButtonEl.classList.add('colab-df-spinner');\n",
              "      try {\n",
              "        const charts = await google.colab.kernel.invokeFunction(\n",
              "            'suggestCharts', [key], {});\n",
              "      } catch (error) {\n",
              "        console.error('Error during call to suggestCharts:', error);\n",
              "      }\n",
              "      quickchartButtonEl.classList.remove('colab-df-spinner');\n",
              "      quickchartButtonEl.classList.add('colab-df-quickchart-complete');\n",
              "    }\n",
              "    (() => {\n",
              "      let quickchartButtonEl =\n",
              "        document.querySelector('#df-bd04e1f6-cf8a-432b-92b7-471a92904dd3 button');\n",
              "      quickchartButtonEl.style.display =\n",
              "        google.colab.kernel.accessAllowed ? 'block' : 'none';\n",
              "    })();\n",
              "  </script>\n",
              "</div>\n",
              "    </div>\n",
              "  </div>\n"
            ]
          },
          "metadata": {},
          "execution_count": 63
        }
      ]
    },
    {
      "cell_type": "code",
      "source": [
        "plt.plot(report['normal'], label= 'normal')\n",
        "plt.plot(report['parallel'], label= 'parallel')\n",
        "\n",
        "plt.legend()\n",
        "plt.xlabel('testcase')\n",
        "plt.ylabel('run time')\n",
        "plt.grid()"
      ],
      "metadata": {
        "colab": {
          "base_uri": "https://localhost:8080/",
          "height": 449
        },
        "id": "7Q-8DV2use10",
        "outputId": "c0fe0396-7598-4000-8356-8925c7230a97"
      },
      "execution_count": null,
      "outputs": [
        {
          "output_type": "display_data",
          "data": {
            "text/plain": [
              "<Figure size 640x480 with 1 Axes>"
            ],
            "image/png": "[encoded data removed]"
          },
          "metadata": {}
        }
      ]
    },
    {
      "cell_type": "code",
      "source": [
        "print('mean time of normal is: ', f\"{np.mean(normal):.3f}\")\n",
        "print('mean time of parallel is: ', f\"{np.mean(parallel):.3f}\")"
      ],
      "metadata": {
        "colab": {
          "base_uri": "https://localhost:8080/"
        },
        "id": "e77B_60CuG3r",
        "outputId": "b3abdf7a-b700-46b4-b3a8-40c8fd9f3a55"
      },
      "execution_count": null,
      "outputs": [
        {
          "output_type": "stream",
          "name": "stdout",
          "text": [
            "mean time of normal is:  2.469\n",
            "mean time of parallel is:  2.429\n"
          ]
        }
      ]
    },
    {
      "cell_type": "markdown",
      "source": [
        "## **Conclude:**\n",
        "- We can rely on the availability of multiple CPUs in a computer to design parallel algorithms.\n",
        "- In Python, we can use the multiprocessing library and the Pool class.\n",
        "- Generally, to perform a parallel algorithm, we need to divide the data into independent parts, perform calculations on each part simultaneously, and combine the results.\n",
        "- In the above report, we see that the speed of the parallel algorithm is slightly faster than the serial algorithm.\n",
        "- Depending on the hardware device, changing parameters such as NUMBER_PROCESSOR and the implementation method can yield impressive results on larger datasets with parallel algorithms."
      ],
      "metadata": {
        "id": "u3eBY-mA0eBg"
      }
    },
    {
      "cell_type": "code",
      "source": [
        "print('thank you')"
      ],
      "metadata": {
        "colab": {
          "base_uri": "https://localhost:8080/"
        },
        "id": "74XM_gvt2PKu",
        "outputId": "ad963a9b-455d-4f62-b615-0fb6099f922d"
      },
      "execution_count": null,
      "outputs": [
        {
          "output_type": "stream",
          "name": "stdout",
          "text": [
            "thank you\n"
          ]
        }
      ]
    }
  ],
  "metadata": {
    "colab": {
      "toc_visible": true,
      "provenance": []
    },
    "kernelspec": {
      "display_name": "Python 3",
      "name": "python3"
    },
    "language_info": {
      "name": "python"
    },
    "accelerator": "TPU"
  },
  "nbformat": 4,
  "nbformat_minor": 0
}